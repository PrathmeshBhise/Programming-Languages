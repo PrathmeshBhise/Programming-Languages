{
 "cells": [
  {
   "cell_type": "code",
   "execution_count": null,
   "metadata": {},
   "outputs": [],
   "source": [
    "n=int(input(\" Enter:\"))\n",
    "for i in range(1,n+1):\n",
    "    print(\" \"*(n-i),\"* \"*i)"
   ]
  },
  {
   "cell_type": "code",
   "execution_count": null,
   "metadata": {},
   "outputs": [],
   "source": [
    "n=int(input(\" Enter:\"))\n",
    "for i in range(n,0,-1):\n",
    "    print(\" \"*(n-i),\"* \"*i)"
   ]
  },
  {
   "cell_type": "code",
   "execution_count": null,
   "metadata": {},
   "outputs": [],
   "source": [
    "n=int(input(\" Enter:\"))\n",
    "for i in range(n,0,-1):\n",
    "    print(\" \"*(n-i),\"* \"*i)\n",
    "for i in range(1,n+1):\n",
    "    print(\" \"*(n-i),\"* \"*i)\n"
   ]
  },
  {
   "cell_type": "code",
   "execution_count": null,
   "metadata": {},
   "outputs": [],
   "source": [
    "n=10\n",
    "\n",
    "for i in range(1,n):\n",
    "    print(\"*\"*i +\" \"*((n-i)*2) + \"*\"*i)\n",
    "for j in range(n,0,-1):\n",
    "    print(\"*\"*j+\" \"*((n-j)*2) + \"*\"*j)"
   ]
  },
  {
   "cell_type": "code",
   "execution_count": null,
   "metadata": {},
   "outputs": [],
   "source": [
    "n=int(input(\" Enter:\"))\n",
    "for i in range(1,n+1):\n",
    "    print(\" \"*(n-i),\"* \"*i)\n",
    "for i in range(n,0,-1):\n",
    "    print(\" \"*(n-i),\"* \"*i)\n"
   ]
  },
  {
   "cell_type": "code",
   "execution_count": null,
   "metadata": {},
   "outputs": [],
   "source": []
  }
 ],
 "metadata": {
  "kernelspec": {
   "display_name": "Python 3",
   "language": "python",
   "name": "python3"
  },
  "language_info": {
   "codemirror_mode": {
    "name": "ipython",
    "version": 3
   },
   "file_extension": ".py",
   "mimetype": "text/x-python",
   "name": "python",
   "nbconvert_exporter": "python",
   "pygments_lexer": "ipython3",
   "version": "3.11.9"
  }
 },
 "nbformat": 4,
 "nbformat_minor": 2
}
