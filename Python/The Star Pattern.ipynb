{
 "cells": [
  {
   "cell_type": "code",
   "execution_count": 52,
   "metadata": {},
   "outputs": [
    {
     "name": "stdout",
     "output_type": "stream",
     "text": [
      "          * \n",
      "         * * \n",
      "        * * * \n",
      "       * * * * \n",
      "      * * * * * \n",
      "     * * * * * * \n",
      "    * * * * * * * \n",
      "   * * * * * * * * \n",
      "  * * * * * * * * * \n",
      " * * * * * * * * * * \n"
     ]
    }
   ],
   "source": [
    "n=int(input(\" Enter:\"))\n",
    "for i in range(1,n+1):\n",
    "    print(\" \"*(n-i),\"* \"*i)"
   ]
  },
  {
   "cell_type": "code",
   "execution_count": 53,
   "metadata": {},
   "outputs": [
    {
     "name": "stdout",
     "output_type": "stream",
     "text": [
      " * * * * * * * * * * \n",
      "  * * * * * * * * * \n",
      "   * * * * * * * * \n",
      "    * * * * * * * \n",
      "     * * * * * * \n",
      "      * * * * * \n",
      "       * * * * \n",
      "        * * * \n",
      "         * * \n",
      "          * \n"
     ]
    }
   ],
   "source": [
    "n=10\n",
    "for i in range(n,0,-1):\n",
    "    print(\" \"*(n-i),\"* \"*i)"
   ]
  },
  {
   "cell_type": "code",
   "execution_count": 54,
   "metadata": {},
   "outputs": [
    {
     "name": "stdout",
     "output_type": "stream",
     "text": [
      " * * * * * * * * * * \n",
      "  * * * * * * * * * \n",
      "   * * * * * * * * \n",
      "    * * * * * * * \n",
      "     * * * * * * \n",
      "      * * * * * \n",
      "       * * * * \n",
      "        * * * \n",
      "         * * \n",
      "          * \n",
      "          * \n",
      "         * * \n",
      "        * * * \n",
      "       * * * * \n",
      "      * * * * * \n",
      "     * * * * * * \n",
      "    * * * * * * * \n",
      "   * * * * * * * * \n",
      "  * * * * * * * * * \n",
      " * * * * * * * * * * \n"
     ]
    }
   ],
   "source": [
    "n=10\n",
    "for i in range(n,0,-1):\n",
    "    print(\" \"*(n-i),\"* \"*i)\n",
    "for i in range(1,n+1):\n",
    "    print(\" \"*(n-i),\"* \"*i)\n"
   ]
  },
  {
   "cell_type": "code",
   "execution_count": 55,
   "metadata": {},
   "outputs": [
    {
     "name": "stdout",
     "output_type": "stream",
     "text": [
      "*                  *\n",
      "**                **\n",
      "***              ***\n",
      "****            ****\n",
      "*****          *****\n",
      "******        ******\n",
      "*******      *******\n",
      "********    ********\n",
      "*********  *********\n",
      "********************\n",
      "*********  *********\n",
      "********    ********\n",
      "*******      *******\n",
      "******        ******\n",
      "*****          *****\n",
      "****            ****\n",
      "***              ***\n",
      "**                **\n",
      "*                  *\n"
     ]
    }
   ],
   "source": [
    "n=10\n",
    "\n",
    "for i in range(1,n):\n",
    "    print(\"*\"*i +\" \"*((n-i)*2) + \"*\"*i)\n",
    "for j in range(n,0,-1):\n",
    "    print(\"*\"*j+\" \"*((n-j)*2) + \"*\"*j)"
   ]
  },
  {
   "cell_type": "code",
   "execution_count": 56,
   "metadata": {},
   "outputs": [
    {
     "name": "stdout",
     "output_type": "stream",
     "text": [
      "          * \n",
      "         * * \n",
      "        * * * \n",
      "       * * * * \n",
      "      * * * * * \n",
      "     * * * * * * \n",
      "    * * * * * * * \n",
      "   * * * * * * * * \n",
      "  * * * * * * * * * \n",
      " * * * * * * * * * * \n",
      " * * * * * * * * * * \n",
      "  * * * * * * * * * \n",
      "   * * * * * * * * \n",
      "    * * * * * * * \n",
      "     * * * * * * \n",
      "      * * * * * \n",
      "       * * * * \n",
      "        * * * \n",
      "         * * \n",
      "          * \n"
     ]
    }
   ],
   "source": [
    "n=10\n",
    "for i in range(1,n+1):\n",
    "    print(\" \"*(n-i),\"* \"*i)\n",
    "for i in range(n,0,-1):\n",
    "    print(\" \"*(n-i),\"* \"*i)\n"
   ]
  },
  {
   "cell_type": "code",
   "execution_count": 57,
   "metadata": {},
   "outputs": [
    {
     "name": "stdout",
     "output_type": "stream",
     "text": [
      "* * * * * * * * * * * *\n",
      "*          *          *\n",
      "*         * *         *\n",
      "*        * * *        *\n",
      "*       * * * *       *\n",
      "*      * * * * *      *\n",
      "*     * * * * * *     *\n",
      "*    * * * * * * *    *\n",
      "*   * * * * * * * *   *\n",
      "*  * * * * * * * * *  *\n",
      "* * * * * * * * * * * *\n",
      "*  * * * * * * * * *  *\n",
      "*   * * * * * * * *   *\n",
      "*    * * * * * * *    *\n",
      "*     * * * * * *     *\n",
      "*      * * * * *      *\n",
      "*       * * * *       *\n",
      "*        * * *        *\n",
      "*         * *         *\n",
      "*          *          *\n",
      "* * * * * * * * * * * *\n"
     ]
    }
   ],
   "source": [
    "n=10\n",
    "for i in range(0,n):\n",
    "    if i==0:\n",
    "        print(\"* \"+\"* \"*(n)+\"*\")\n",
    "    else:\n",
    "        print(\"* \"+\" \"*(n-i)+\"* \"*i+\" \"*(n-i)+\"*\")\n",
    "for i in range(n,-1,-1):\n",
    "    if i==0:\n",
    "        print(\"* \"+\"* \"*(n)+\"*\")\n",
    "    else:\n",
    "        print(\"* \"+\" \"*(n-i)+\"* \"*i+\" \"*(n-i)+\"*\")"
   ]
  },
  {
   "cell_type": "code",
   "execution_count": 58,
   "metadata": {},
   "outputs": [
    {
     "name": "stdout",
     "output_type": "stream",
     "text": [
      "********************\n",
      "*********  *********\n",
      "********    ********\n",
      "*******      *******\n",
      "******        ******\n",
      "*****          *****\n",
      "****            ****\n",
      "***              ***\n",
      "**                **\n",
      "*                  *\n",
      "**                **\n",
      "***              ***\n",
      "****            ****\n",
      "*****          *****\n",
      "******        ******\n",
      "*******      *******\n",
      "********    ********\n",
      "*********  *********\n",
      "********************\n"
     ]
    }
   ],
   "source": [
    "n=10\n",
    "for i in range(n,0,-1):\n",
    "    print(\"*\"*i +\" \"*(2*(n-i)) + (\"*\")*i )\n",
    "for i in range(2,n+1):\n",
    "    print(\"*\"*i +\" \"*(2*(n-i)) + (\"*\")*i )"
   ]
  },
  {
   "cell_type": "code",
   "execution_count": 59,
   "metadata": {},
   "outputs": [
    {
     "name": "stdout",
     "output_type": "stream",
     "text": [
      "         * \n",
      "        * * \n",
      "       * * * \n",
      "      * * * * \n",
      "     * * * * * \n",
      "    * * * * * * \n",
      "   * * * * * * * \n",
      "  * * * * * * * * \n",
      " * * * * * * * * * \n",
      "* * * * * * * * * * \n",
      "\n",
      "* * * * * * * * * * \n",
      "* * * *     * * * * \n",
      "* * *         * * * \n",
      "* *             * * \n",
      "*                 * \n"
     ]
    }
   ],
   "source": [
    "n=10\n",
    "for i in range(1,n+1):\n",
    "    print(\" \"*(n-i) + \"* \"*i)\n",
    "print()\n",
    "m=int(n/2)\n",
    "for j in range(m,0,-1):\n",
    "    print(\"* \"*(j) + \"  \"*(2*(m-j)) + \"* \"*(j) )"
   ]
  },
  {
   "cell_type": "code",
   "execution_count": 18,
   "metadata": {},
   "outputs": [
    {
     "name": "stdout",
     "output_type": "stream",
     "text": [
      "*  *  *  *  *  *  *  *  *  *  *  \n",
      "*                       *  *  *\n",
      "*                    *  *     *\n",
      "*                 *  *        *\n",
      "*              *  *           *\n",
      "*           *  *              *\n",
      "*        *  *                 *\n",
      "*     *  *                    *\n",
      "*  *  *                       *\n",
      "*  *  *  *  *  *  *  *  *  *  *  \n"
     ]
    }
   ],
   "source": [
    "n=10\n",
    "for i in range(0,n):\n",
    "    if i>0 and i<(n-1):\n",
    "        print(\"* \" + \"   \"*(n-i-2) + \" *\" + \"  \" + \"* \" + \"   \"*(i-1) + \" *\"  )\n",
    "    else:\n",
    "        print(\"*  \"*(n-i) + \"*  \"*(i+1))"
   ]
  },
  {
   "cell_type": "code",
   "execution_count": 17,
   "metadata": {},
   "outputs": [
    {
     "name": "stdout",
     "output_type": "stream",
     "text": [
      "* * * * * * * * *     *\n",
      "* * * * * * * *     * *\n",
      "* * * * * * *     * * *\n",
      "* * * * * *     * * * *\n",
      "* * * * *     * * * * *\n",
      "* * * *     * * * * * *\n",
      "* * *     * * * * * * *\n",
      "* *     * * * * * * * *\n",
      "*     * * * * * * * * *\n",
      "    * * * * * * * * * *\n"
     ]
    }
   ],
   "source": [
    "n=10\n",
    "m=1\n",
    "for i in range(n,0,-1):\n",
    "    print(\"* \"*(i-1)  +  \"   \" + \" *\"*m)\n",
    "    m+=1"
   ]
  },
  {
   "cell_type": "code",
   "execution_count": 60,
   "metadata": {},
   "outputs": [
    {
     "name": "stdout",
     "output_type": "stream",
     "text": [
      "* * * * * * * * * * \n",
      "*              * **\n",
      "*            * *  *\n",
      "*          * *    *\n",
      "*        * *      *\n",
      "*      * *        *\n",
      "*    * *          *\n",
      "*  * *            *\n",
      "** *              *\n",
      "* * * * * * * * * * \n",
      "* * * * * * * * * * \n",
      "** *              *\n",
      "*  * *            *\n",
      "*    * *          *\n",
      "*      * *        *\n",
      "*        * *      *\n",
      "*          * *    *\n",
      "*            * *  *\n",
      "*              * **\n",
      "* * * * * * * * * * \n"
     ]
    }
   ],
   "source": [
    "n=10\n",
    "k=0\n",
    "for i in range(0,n):\n",
    "    if i>0 and i<(n-1):\n",
    "        print(\"*\" + \"  \"*(n-i-2) + \"*\" + \" \" + \"*\" +\"  \"*k +\"*\" )\n",
    "        k+=1\n",
    "    else:\n",
    "        print(\"* \"*n)     \n",
    "\n",
    "l=0\n",
    "for i in range(0,n):\n",
    "    if i>0 and i<(n-1):\n",
    "        print(\"*\"+\"  \"*l+\"*\" +\" \"+ \"*\" + \"  \"*(n-i-2)+\"*\")\n",
    "        l+=1\n",
    "    else:\n",
    "        print(\"* \"*n)     \n"
   ]
  },
  {
   "cell_type": "code",
   "execution_count": 61,
   "metadata": {},
   "outputs": [
    {
     "name": "stdout",
     "output_type": "stream",
     "text": [
      "* * * * * * * * *   * \n",
      "* * * * * * * *   * * \n",
      "* * * * * * *   * * * \n",
      "* * * * * *   * * * * \n",
      "* * * * *   * * * * * \n",
      "* * * *   * * * * * * \n",
      "* * *   * * * * * * * \n",
      "* *   * * * * * * * * \n",
      "*   * * * * * * * * * \n",
      "\n",
      "*   * * * * * * * * * \n",
      "* *   * * * * * * * * \n",
      "* * *   * * * * * * * \n",
      "* * * *   * * * * * * \n",
      "* * * * *   * * * * * \n",
      "* * * * * *   * * * * \n",
      "* * * * * * *   * * * \n",
      "* * * * * * * *   * * \n",
      "* * * * * * * * *   * \n"
     ]
    }
   ],
   "source": [
    "n=10\n",
    "\n",
    "for i in range(1,n):\n",
    "    print(\"* \"*(n-i) +\"  \"+ \"* \"*i)\n",
    "    \n",
    "print()\n",
    "\n",
    "for i in range(1,n):\n",
    "    print( \"* \"*i + \"  \"+   \"* \"*(n-i))"
   ]
  },
  {
   "cell_type": "code",
   "execution_count": 62,
   "metadata": {},
   "outputs": [
    {
     "name": "stdout",
     "output_type": "stream",
     "text": [
      "          * * * * * * * * * * \n",
      "         * * * * * * * * * * \n",
      "        * * * * * * * * * * \n",
      "       * * * * * * * * * * \n",
      "      * * * * * * * * * * \n",
      "     * * * * * * * * * * \n",
      "    * * * * * * * * * * \n",
      "   * * * * * * * * * * \n",
      "  * * * * * * * * * * \n",
      " * * * * * * * * * * \n"
     ]
    }
   ],
   "source": [
    "n=10\n",
    "for i in range(0,n):\n",
    "    print(\" \"*(n-i) + \"* \"*n)"
   ]
  },
  {
   "cell_type": "code",
   "execution_count": 63,
   "metadata": {},
   "outputs": [
    {
     "name": "stdout",
     "output_type": "stream",
     "text": [
      "*                  *                   *\n",
      "**                * *                 **\n",
      "***              * * *               ***\n",
      "****            * * * *             ****\n",
      "*****          * * * * *           *****\n",
      "******        * * * * * *         ******\n",
      "*******      * * * * * * *       *******\n",
      "********    * * * * * * * *     ********\n",
      "*********  * * * * * * * * *   *********\n",
      "*********** * * * * * * * * * **********\n",
      "*********  * * * * * * * * *   *********\n",
      "********    * * * * * * * *     ********\n",
      "*******      * * * * * * *       *******\n",
      "******        * * * * * *         ******\n",
      "*****          * * * * *           *****\n",
      "****            * * * *             ****\n",
      "***              * * *               ***\n",
      "**                * *                 **\n",
      "*                  *                   *\n"
     ]
    }
   ],
   "source": [
    "n=10\n",
    "for i in range (1,n):\n",
    "    print(\"*\"*i + \" \"*(2*(n-i)) +\"* \"*i + \" \"*(2*(n-i)) +\"*\"*i)\n",
    "for i in range (n,0,-1):\n",
    "    print(\"*\"*i + \" \"*(2*(n-i)) +\"* \"*i + \" \"*(2*(n-i)) +\"*\"*i)"
   ]
  },
  {
   "cell_type": "code",
   "execution_count": 64,
   "metadata": {},
   "outputs": [
    {
     "name": "stdout",
     "output_type": "stream",
     "text": [
      "         *  * * * * * * * * * \n",
      "        * *  * * * * * * * * \n",
      "       * * *  * * * * * * * \n",
      "      * * * *  * * * * * * \n",
      "     * * * * *  * * * * * \n",
      "    * * * * * *  * * * * \n",
      "   * * * * * * *  * * * \n",
      "  * * * * * * * *  * * \n",
      " * * * * * * * * *  * \n",
      "\n",
      " *   *   *   *   *   *   *   *   *   *  \n",
      "   *   *   *   *   *   *   *   *   *  \n",
      "     *   *   *   *   *   *   *   *  \n",
      "       *   *   *   *   *   *   *  \n",
      "         *   *   *   *   *   *  \n",
      "           *   *   *   *   *  \n",
      "             *   *   *   *  \n",
      "               *   *   *  \n",
      "                 *   *  \n",
      "                   *  \n"
     ]
    }
   ],
   "source": [
    "n=10\n",
    "for i in range(1,n):\n",
    "    print(\" \"*(n-i)+\"* \"*i + \" \" +\"* \"*(n-i))\n",
    "print()\n",
    "for i in range(n,0,-1):\n",
    "    print(\"  \"*(n-i)+\" *  \"*i )"
   ]
  }
 ],
 "metadata": {
  "kernelspec": {
   "display_name": "Python 3",
   "language": "python",
   "name": "python3"
  },
  "language_info": {
   "codemirror_mode": {
    "name": "ipython",
    "version": 3
   },
   "file_extension": ".py",
   "mimetype": "text/x-python",
   "name": "python",
   "nbconvert_exporter": "python",
   "pygments_lexer": "ipython3",
   "version": "3.11.9"
  }
 },
 "nbformat": 4,
 "nbformat_minor": 2
}
